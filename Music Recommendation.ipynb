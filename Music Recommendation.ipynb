{
 "cells": [
  {
   "cell_type": "markdown",
   "metadata": {
    "id": "eYpjFcui1Ae7"
   },
   "source": [
    "# BEGINNER LEVEL TASK - 3\n",
    "# Music Recommendation"
   ]
  },
  {
   "cell_type": "markdown",
   "metadata": {
    "id": "64YHlTFv2lXG"
   },
   "source": [
    "# Importing the Libraries"
   ]
  },
  {
   "cell_type": "code",
   "execution_count": 1,
   "metadata": {
    "id": "-SshoWTU2Cad"
   },
   "outputs": [],
   "source": [
    "import numpy as np\n",
    "import pandas as pd\n",
    "import matplotlib.pyplot as plt\n",
    "import seaborn as sns\n",
    "from sklearn.feature_extraction.text import TfidfVectorizer\n",
    "from sklearn.metrics.pairwise import cosine_similarity"
   ]
  },
  {
   "cell_type": "markdown",
   "metadata": {
    "id": "o0G32hRR2jc6"
   },
   "source": [
    "# Loading the dataset"
   ]
  },
  {
   "cell_type": "code",
   "execution_count": 9,
   "metadata": {
    "id": "JfIhJNDP29fj"
   },
   "outputs": [],
   "source": [
    "members = pd.read_csv(\".\\members.csv\")\n",
    "submission = pd.read_csv(\".\\sample_submission.csv\",nrows=20000)\n",
    "songs_info = pd.read_csv(\".\\song_extra_info.csv\")\n",
    "songs = pd.read_csv(\".\\songs.csv\",nrows=20000)\n",
    "train = pd.read_csv( \"./train.csv\",nrows=20000)\n",
    "test = pd.read_csv(\"./test.csv\")"
   ]
  },
  {
   "cell_type": "markdown",
   "metadata": {
    "id": "YJ-dTiwb2_yn"
   },
   "source": [
    "# **Exploratory Data Analysis**"
   ]
  },
  {
   "cell_type": "code",
   "execution_count": 10,
   "metadata": {
    "colab": {
     "base_uri": "https://localhost:8080/"
    },
    "id": "FbFEfFif5bqx",
    "outputId": "564793ae-0da2-4982-d25a-875f04e02172"
   },
   "outputs": [
    {
     "data": {
      "text/html": [
       "<div>\n",
       "<style scoped>\n",
       "    .dataframe tbody tr th:only-of-type {\n",
       "        vertical-align: middle;\n",
       "    }\n",
       "\n",
       "    .dataframe tbody tr th {\n",
       "        vertical-align: top;\n",
       "    }\n",
       "\n",
       "    .dataframe thead th {\n",
       "        text-align: right;\n",
       "    }\n",
       "</style>\n",
       "<table border=\"1\" class=\"dataframe\">\n",
       "  <thead>\n",
       "    <tr style=\"text-align: right;\">\n",
       "      <th></th>\n",
       "      <th>msno</th>\n",
       "      <th>city</th>\n",
       "      <th>bd</th>\n",
       "      <th>gender</th>\n",
       "      <th>registered_via</th>\n",
       "      <th>registration_init_time</th>\n",
       "      <th>expiration_date</th>\n",
       "    </tr>\n",
       "  </thead>\n",
       "  <tbody>\n",
       "    <tr>\n",
       "      <th>24054</th>\n",
       "      <td>AyLluAjcv++USVU/cgONguzYFfFeSosTW9c35KjJTPU=</td>\n",
       "      <td>1</td>\n",
       "      <td>0</td>\n",
       "      <td>NaN</td>\n",
       "      <td>7</td>\n",
       "      <td>20160217</td>\n",
       "      <td>20170905</td>\n",
       "    </tr>\n",
       "    <tr>\n",
       "      <th>26985</th>\n",
       "      <td>dJmsq5q01qLJN2IqWpEO882Qv7AFgJcqSE/s0DOU6y4=</td>\n",
       "      <td>1</td>\n",
       "      <td>17</td>\n",
       "      <td>female</td>\n",
       "      <td>3</td>\n",
       "      <td>20160624</td>\n",
       "      <td>20170130</td>\n",
       "    </tr>\n",
       "    <tr>\n",
       "      <th>8253</th>\n",
       "      <td>2aq27fhziE3vQBA9wusbb6qbolVR9MCECauVeLOs4qs=</td>\n",
       "      <td>8</td>\n",
       "      <td>18</td>\n",
       "      <td>male</td>\n",
       "      <td>4</td>\n",
       "      <td>20161229</td>\n",
       "      <td>20170129</td>\n",
       "    </tr>\n",
       "    <tr>\n",
       "      <th>7745</th>\n",
       "      <td>4oXa8IqoS8ziQFMa2ftp7+4M9Y437MiBG3hBoWk9oVE=</td>\n",
       "      <td>4</td>\n",
       "      <td>20</td>\n",
       "      <td>male</td>\n",
       "      <td>3</td>\n",
       "      <td>20160106</td>\n",
       "      <td>20170617</td>\n",
       "    </tr>\n",
       "    <tr>\n",
       "      <th>4229</th>\n",
       "      <td>mDqF17eowvmEMYsk0Qx+vteDEDwsDyUTupDLJLazqjY=</td>\n",
       "      <td>3</td>\n",
       "      <td>24</td>\n",
       "      <td>male</td>\n",
       "      <td>9</td>\n",
       "      <td>20170121</td>\n",
       "      <td>20170426</td>\n",
       "    </tr>\n",
       "  </tbody>\n",
       "</table>\n",
       "</div>"
      ],
      "text/plain": [
       "                                               msno  city  bd  gender  \\\n",
       "24054  AyLluAjcv++USVU/cgONguzYFfFeSosTW9c35KjJTPU=     1   0     NaN   \n",
       "26985  dJmsq5q01qLJN2IqWpEO882Qv7AFgJcqSE/s0DOU6y4=     1  17  female   \n",
       "8253   2aq27fhziE3vQBA9wusbb6qbolVR9MCECauVeLOs4qs=     8  18    male   \n",
       "7745   4oXa8IqoS8ziQFMa2ftp7+4M9Y437MiBG3hBoWk9oVE=     4  20    male   \n",
       "4229   mDqF17eowvmEMYsk0Qx+vteDEDwsDyUTupDLJLazqjY=     3  24    male   \n",
       "\n",
       "       registered_via  registration_init_time  expiration_date  \n",
       "24054               7                20160217         20170905  \n",
       "26985               3                20160624         20170130  \n",
       "8253                4                20161229         20170129  \n",
       "7745                3                20160106         20170617  \n",
       "4229                9                20170121         20170426  "
      ]
     },
     "execution_count": 10,
     "metadata": {},
     "output_type": "execute_result"
    }
   ],
   "source": [
    "members.sample(5)"
   ]
  },
  {
   "cell_type": "code",
   "execution_count": 11,
   "metadata": {
    "colab": {
     "base_uri": "https://localhost:8080/",
     "height": 206
    },
    "id": "OVi11UWS5fqj",
    "outputId": "83cf139d-8691-4923-c7ed-b0a3c87aa7ec"
   },
   "outputs": [
    {
     "data": {
      "text/html": [
       "<div>\n",
       "<style scoped>\n",
       "    .dataframe tbody tr th:only-of-type {\n",
       "        vertical-align: middle;\n",
       "    }\n",
       "\n",
       "    .dataframe tbody tr th {\n",
       "        vertical-align: top;\n",
       "    }\n",
       "\n",
       "    .dataframe thead th {\n",
       "        text-align: right;\n",
       "    }\n",
       "</style>\n",
       "<table border=\"1\" class=\"dataframe\">\n",
       "  <thead>\n",
       "    <tr style=\"text-align: right;\">\n",
       "      <th></th>\n",
       "      <th>id</th>\n",
       "      <th>target</th>\n",
       "    </tr>\n",
       "  </thead>\n",
       "  <tbody>\n",
       "    <tr>\n",
       "      <th>8162</th>\n",
       "      <td>8162</td>\n",
       "      <td>0.5</td>\n",
       "    </tr>\n",
       "    <tr>\n",
       "      <th>17887</th>\n",
       "      <td>17887</td>\n",
       "      <td>0.5</td>\n",
       "    </tr>\n",
       "    <tr>\n",
       "      <th>5464</th>\n",
       "      <td>5464</td>\n",
       "      <td>0.5</td>\n",
       "    </tr>\n",
       "    <tr>\n",
       "      <th>13902</th>\n",
       "      <td>13902</td>\n",
       "      <td>0.5</td>\n",
       "    </tr>\n",
       "    <tr>\n",
       "      <th>15206</th>\n",
       "      <td>15206</td>\n",
       "      <td>0.5</td>\n",
       "    </tr>\n",
       "  </tbody>\n",
       "</table>\n",
       "</div>"
      ],
      "text/plain": [
       "          id  target\n",
       "8162    8162     0.5\n",
       "17887  17887     0.5\n",
       "5464    5464     0.5\n",
       "13902  13902     0.5\n",
       "15206  15206     0.5"
      ]
     },
     "execution_count": 11,
     "metadata": {},
     "output_type": "execute_result"
    }
   ],
   "source": [
    "submission.sample(5)"
   ]
  },
  {
   "cell_type": "code",
   "execution_count": 12,
   "metadata": {
    "colab": {
     "base_uri": "https://localhost:8080/",
     "height": 143
    },
    "id": "ojFpzFnL5jYu",
    "outputId": "ac004ba1-4d7a-4f5a-b39b-48380d15b07e"
   },
   "outputs": [
    {
     "data": {
      "text/html": [
       "<div>\n",
       "<style scoped>\n",
       "    .dataframe tbody tr th:only-of-type {\n",
       "        vertical-align: middle;\n",
       "    }\n",
       "\n",
       "    .dataframe tbody tr th {\n",
       "        vertical-align: top;\n",
       "    }\n",
       "\n",
       "    .dataframe thead th {\n",
       "        text-align: right;\n",
       "    }\n",
       "</style>\n",
       "<table border=\"1\" class=\"dataframe\">\n",
       "  <thead>\n",
       "    <tr style=\"text-align: right;\">\n",
       "      <th></th>\n",
       "      <th>song_id</th>\n",
       "      <th>name</th>\n",
       "      <th>isrc</th>\n",
       "    </tr>\n",
       "  </thead>\n",
       "  <tbody>\n",
       "    <tr>\n",
       "      <th>1530556</th>\n",
       "      <td>8Raw2UrYSK2yoOGzQTQqXDMXyQWF/UqnX9wohkxZydE=</td>\n",
       "      <td>Send Me The Pillow You Dream On</td>\n",
       "      <td>DEPZ69490406</td>\n",
       "    </tr>\n",
       "    <tr>\n",
       "      <th>1030864</th>\n",
       "      <td>bpbJEFsUsol0IIa9M8MYvm2i1SBpHeGnMPtgqTnJDBg=</td>\n",
       "      <td>微醺</td>\n",
       "      <td>NaN</td>\n",
       "    </tr>\n",
       "    <tr>\n",
       "      <th>869636</th>\n",
       "      <td>FNwvpx261BVp6gftRJr00xcNvn7UDhqzKEQaFASTNnc=</td>\n",
       "      <td>瘋狂假面</td>\n",
       "      <td>TWB830500107</td>\n",
       "    </tr>\n",
       "    <tr>\n",
       "      <th>1191100</th>\n",
       "      <td>ySkmaUz0o4BmYdT3cPYA3NJVv3mNA954zFyqK0p+7tk=</td>\n",
       "      <td>Two Friends</td>\n",
       "      <td>USA561111934</td>\n",
       "    </tr>\n",
       "    <tr>\n",
       "      <th>1477678</th>\n",
       "      <td>Ho1WPQSgjn3UEovtxn6DtH/1GF0v6eDEDvHcd2xoNYI=</td>\n",
       "      <td>비상 (Emergency) [In the Style of Koyote]</td>\n",
       "      <td>KRB361210770</td>\n",
       "    </tr>\n",
       "  </tbody>\n",
       "</table>\n",
       "</div>"
      ],
      "text/plain": [
       "                                              song_id  \\\n",
       "1530556  8Raw2UrYSK2yoOGzQTQqXDMXyQWF/UqnX9wohkxZydE=   \n",
       "1030864  bpbJEFsUsol0IIa9M8MYvm2i1SBpHeGnMPtgqTnJDBg=   \n",
       "869636   FNwvpx261BVp6gftRJr00xcNvn7UDhqzKEQaFASTNnc=   \n",
       "1191100  ySkmaUz0o4BmYdT3cPYA3NJVv3mNA954zFyqK0p+7tk=   \n",
       "1477678  Ho1WPQSgjn3UEovtxn6DtH/1GF0v6eDEDvHcd2xoNYI=   \n",
       "\n",
       "                                            name          isrc  \n",
       "1530556          Send Me The Pillow You Dream On  DEPZ69490406  \n",
       "1030864                                       微醺           NaN  \n",
       "869636                                      瘋狂假面  TWB830500107  \n",
       "1191100                              Two Friends  USA561111934  \n",
       "1477678  비상 (Emergency) [In the Style of Koyote]  KRB361210770  "
      ]
     },
     "execution_count": 12,
     "metadata": {},
     "output_type": "execute_result"
    }
   ],
   "source": [
    "songs_info.sample(5)"
   ]
  },
  {
   "cell_type": "code",
   "execution_count": 13,
   "metadata": {
    "colab": {
     "base_uri": "https://localhost:8080/"
    },
    "id": "ZgFfqYTi6d-v",
    "outputId": "5ee23ed3-ddef-4445-8b43-5f9968c15e01"
   },
   "outputs": [
    {
     "data": {
      "text/html": [
       "<div>\n",
       "<style scoped>\n",
       "    .dataframe tbody tr th:only-of-type {\n",
       "        vertical-align: middle;\n",
       "    }\n",
       "\n",
       "    .dataframe tbody tr th {\n",
       "        vertical-align: top;\n",
       "    }\n",
       "\n",
       "    .dataframe thead th {\n",
       "        text-align: right;\n",
       "    }\n",
       "</style>\n",
       "<table border=\"1\" class=\"dataframe\">\n",
       "  <thead>\n",
       "    <tr style=\"text-align: right;\">\n",
       "      <th></th>\n",
       "      <th>song_id</th>\n",
       "      <th>song_length</th>\n",
       "      <th>genre_ids</th>\n",
       "      <th>artist_name</th>\n",
       "      <th>composer</th>\n",
       "      <th>lyricist</th>\n",
       "      <th>language</th>\n",
       "    </tr>\n",
       "  </thead>\n",
       "  <tbody>\n",
       "    <tr>\n",
       "      <th>6481</th>\n",
       "      <td>2DpgBtp1vWy4lbZdf42qP/G8qxECByaDDUZxQ/My2zQ=</td>\n",
       "      <td>179350</td>\n",
       "      <td>465</td>\n",
       "      <td>Kim Bo Kyung</td>\n",
       "      <td>NaN</td>\n",
       "      <td>NaN</td>\n",
       "      <td>31.0</td>\n",
       "    </tr>\n",
       "    <tr>\n",
       "      <th>15405</th>\n",
       "      <td>235zbFHu/JYYE2P+wWIXDN73k1lFWgNRx9L4ki1RGqw=</td>\n",
       "      <td>277002</td>\n",
       "      <td>921</td>\n",
       "      <td>Takagi Masakatsu (高木正勝)</td>\n",
       "      <td>Masakatsu Takagi</td>\n",
       "      <td>NaN</td>\n",
       "      <td>17.0</td>\n",
       "    </tr>\n",
       "    <tr>\n",
       "      <th>13615</th>\n",
       "      <td>uMmro5VULe0oNUQAVWflLXo/GwC0LK6G28/97x+T9yM=</td>\n",
       "      <td>249986</td>\n",
       "      <td>465</td>\n",
       "      <td>姜育恆 (Keung Hang)</td>\n",
       "      <td>李壽全/武雄</td>\n",
       "      <td>李壽全/武雄</td>\n",
       "      <td>3.0</td>\n",
       "    </tr>\n",
       "    <tr>\n",
       "      <th>1160</th>\n",
       "      <td>3+tKkL0xiKeZTyzvbf6gJkf5gi+aYyQIPnlfKJ/r77Q=</td>\n",
       "      <td>274877</td>\n",
       "      <td>465</td>\n",
       "      <td>華夏流行歌曲精選集</td>\n",
       "      <td>NaN</td>\n",
       "      <td>NaN</td>\n",
       "      <td>3.0</td>\n",
       "    </tr>\n",
       "    <tr>\n",
       "      <th>7896</th>\n",
       "      <td>ZuRGpHR3oY5fnTijrXSzv+F2kQOqyloyHDxoe0gqjiM=</td>\n",
       "      <td>254815</td>\n",
       "      <td>1152</td>\n",
       "      <td>Matthew Lien</td>\n",
       "      <td>NaN</td>\n",
       "      <td>NaN</td>\n",
       "      <td>-1.0</td>\n",
       "    </tr>\n",
       "  </tbody>\n",
       "</table>\n",
       "</div>"
      ],
      "text/plain": [
       "                                            song_id  song_length genre_ids  \\\n",
       "6481   2DpgBtp1vWy4lbZdf42qP/G8qxECByaDDUZxQ/My2zQ=       179350       465   \n",
       "15405  235zbFHu/JYYE2P+wWIXDN73k1lFWgNRx9L4ki1RGqw=       277002       921   \n",
       "13615  uMmro5VULe0oNUQAVWflLXo/GwC0LK6G28/97x+T9yM=       249986       465   \n",
       "1160   3+tKkL0xiKeZTyzvbf6gJkf5gi+aYyQIPnlfKJ/r77Q=       274877       465   \n",
       "7896   ZuRGpHR3oY5fnTijrXSzv+F2kQOqyloyHDxoe0gqjiM=       254815      1152   \n",
       "\n",
       "                   artist_name          composer lyricist  language  \n",
       "6481              Kim Bo Kyung               NaN      NaN      31.0  \n",
       "15405  Takagi Masakatsu (高木正勝)  Masakatsu Takagi      NaN      17.0  \n",
       "13615         姜育恆 (Keung Hang)            李壽全/武雄   李壽全/武雄       3.0  \n",
       "1160                 華夏流行歌曲精選集               NaN      NaN       3.0  \n",
       "7896              Matthew Lien               NaN      NaN      -1.0  "
      ]
     },
     "execution_count": 13,
     "metadata": {},
     "output_type": "execute_result"
    }
   ],
   "source": [
    "songs.sample(5)"
   ]
  },
  {
   "cell_type": "code",
   "execution_count": 14,
   "metadata": {
    "colab": {
     "base_uri": "https://localhost:8080/",
     "height": 300
    },
    "id": "9ZtjQqrr6jyO",
    "outputId": "a180f596-bd1a-4d2f-df1f-18bd5e8161ac"
   },
   "outputs": [
    {
     "data": {
      "text/html": [
       "<div>\n",
       "<style scoped>\n",
       "    .dataframe tbody tr th:only-of-type {\n",
       "        vertical-align: middle;\n",
       "    }\n",
       "\n",
       "    .dataframe tbody tr th {\n",
       "        vertical-align: top;\n",
       "    }\n",
       "\n",
       "    .dataframe thead th {\n",
       "        text-align: right;\n",
       "    }\n",
       "</style>\n",
       "<table border=\"1\" class=\"dataframe\">\n",
       "  <thead>\n",
       "    <tr style=\"text-align: right;\">\n",
       "      <th></th>\n",
       "      <th>msno</th>\n",
       "      <th>song_id</th>\n",
       "      <th>source_system_tab</th>\n",
       "      <th>source_screen_name</th>\n",
       "      <th>source_type</th>\n",
       "      <th>target</th>\n",
       "    </tr>\n",
       "  </thead>\n",
       "  <tbody>\n",
       "    <tr>\n",
       "      <th>7730</th>\n",
       "      <td>7H8Teyq/bk0vHVwbjT2+Otaz8vHTgdJHmfxwYm2P/K8=</td>\n",
       "      <td>2wM8GWCiMKvbzjhNfNEI3tA5KWsGOUK4cTnuEVYDcUQ=</td>\n",
       "      <td>my library</td>\n",
       "      <td>Local playlist more</td>\n",
       "      <td>local-playlist</td>\n",
       "      <td>1</td>\n",
       "    </tr>\n",
       "    <tr>\n",
       "      <th>11381</th>\n",
       "      <td>oyNW4PvdInWCHV8royT4Iwe/eswMHCrXCcq69eE1Zf8=</td>\n",
       "      <td>lLAqtsvNStONkkrs0X+ASQrz/nH8GOZ9UH6MQjA70QU=</td>\n",
       "      <td>my library</td>\n",
       "      <td>Local playlist more</td>\n",
       "      <td>local-library</td>\n",
       "      <td>0</td>\n",
       "    </tr>\n",
       "    <tr>\n",
       "      <th>14524</th>\n",
       "      <td>HARygVqGgCsyWij/ltgSgtUXEqVcNggYXiGAoaWxnFA=</td>\n",
       "      <td>9t9+DPdDvWrge1ZOUlcJvLmOfnpa4NtNEVY0rBc/91I=</td>\n",
       "      <td>radio</td>\n",
       "      <td>Radio</td>\n",
       "      <td>radio</td>\n",
       "      <td>1</td>\n",
       "    </tr>\n",
       "    <tr>\n",
       "      <th>12850</th>\n",
       "      <td>cEhCRr+hGkQvqDPRd8eK47vJ9d7Kns+sMu0fs+oIRuQ=</td>\n",
       "      <td>YSIgT0sONs9cJGJcpkFPSDdZtUwabSjwgkvZoyfeEIo=</td>\n",
       "      <td>my library</td>\n",
       "      <td>Local playlist more</td>\n",
       "      <td>local-playlist</td>\n",
       "      <td>1</td>\n",
       "    </tr>\n",
       "    <tr>\n",
       "      <th>16084</th>\n",
       "      <td>b4ioSr7PCjSNL1HNyzfSEoW9WT6PLGIrpUcg8wGdE9Q=</td>\n",
       "      <td>fCCmIa0Y5m+MCGbQga31MOLTIqi7ddgXvkjFPmfslGw=</td>\n",
       "      <td>discover</td>\n",
       "      <td>Online playlist more</td>\n",
       "      <td>online-playlist</td>\n",
       "      <td>0</td>\n",
       "    </tr>\n",
       "  </tbody>\n",
       "</table>\n",
       "</div>"
      ],
      "text/plain": [
       "                                               msno  \\\n",
       "7730   7H8Teyq/bk0vHVwbjT2+Otaz8vHTgdJHmfxwYm2P/K8=   \n",
       "11381  oyNW4PvdInWCHV8royT4Iwe/eswMHCrXCcq69eE1Zf8=   \n",
       "14524  HARygVqGgCsyWij/ltgSgtUXEqVcNggYXiGAoaWxnFA=   \n",
       "12850  cEhCRr+hGkQvqDPRd8eK47vJ9d7Kns+sMu0fs+oIRuQ=   \n",
       "16084  b4ioSr7PCjSNL1HNyzfSEoW9WT6PLGIrpUcg8wGdE9Q=   \n",
       "\n",
       "                                            song_id source_system_tab  \\\n",
       "7730   2wM8GWCiMKvbzjhNfNEI3tA5KWsGOUK4cTnuEVYDcUQ=        my library   \n",
       "11381  lLAqtsvNStONkkrs0X+ASQrz/nH8GOZ9UH6MQjA70QU=        my library   \n",
       "14524  9t9+DPdDvWrge1ZOUlcJvLmOfnpa4NtNEVY0rBc/91I=             radio   \n",
       "12850  YSIgT0sONs9cJGJcpkFPSDdZtUwabSjwgkvZoyfeEIo=        my library   \n",
       "16084  fCCmIa0Y5m+MCGbQga31MOLTIqi7ddgXvkjFPmfslGw=          discover   \n",
       "\n",
       "         source_screen_name      source_type  target  \n",
       "7730    Local playlist more   local-playlist       1  \n",
       "11381   Local playlist more    local-library       0  \n",
       "14524                 Radio            radio       1  \n",
       "12850   Local playlist more   local-playlist       1  \n",
       "16084  Online playlist more  online-playlist       0  "
      ]
     },
     "execution_count": 14,
     "metadata": {},
     "output_type": "execute_result"
    }
   ],
   "source": [
    "train.sample(5)"
   ]
  },
  {
   "cell_type": "code",
   "execution_count": 15,
   "metadata": {
    "colab": {
     "base_uri": "https://localhost:8080/",
     "height": 650
    },
    "id": "OiVnSm3i6nIg",
    "outputId": "537eab25-507a-431a-c28e-cb208d89c9cd"
   },
   "outputs": [
    {
     "data": {
      "text/html": [
       "<div>\n",
       "<style scoped>\n",
       "    .dataframe tbody tr th:only-of-type {\n",
       "        vertical-align: middle;\n",
       "    }\n",
       "\n",
       "    .dataframe tbody tr th {\n",
       "        vertical-align: top;\n",
       "    }\n",
       "\n",
       "    .dataframe thead th {\n",
       "        text-align: right;\n",
       "    }\n",
       "</style>\n",
       "<table border=\"1\" class=\"dataframe\">\n",
       "  <thead>\n",
       "    <tr style=\"text-align: right;\">\n",
       "      <th></th>\n",
       "      <th>id</th>\n",
       "      <th>msno</th>\n",
       "      <th>song_id</th>\n",
       "      <th>source_system_tab</th>\n",
       "      <th>source_screen_name</th>\n",
       "      <th>source_type</th>\n",
       "    </tr>\n",
       "  </thead>\n",
       "  <tbody>\n",
       "    <tr>\n",
       "      <th>620753</th>\n",
       "      <td>620753</td>\n",
       "      <td>x9JYlJSBNsO+ikp41JA/A3QgISfzekspIBUutZUwCrA=</td>\n",
       "      <td>RtruXqI7qVe60bQrQ+VE3fgdcRnL+If4fnd29LlR3J4=</td>\n",
       "      <td>my library</td>\n",
       "      <td>Local playlist more</td>\n",
       "      <td>local-library</td>\n",
       "    </tr>\n",
       "    <tr>\n",
       "      <th>24312</th>\n",
       "      <td>24312</td>\n",
       "      <td>omj9hjUFiWmCCpiTn0BWFFSofE+ZdkZkx4jlgWgo1Wo=</td>\n",
       "      <td>sYTikvUS4j1SLw2v3WggJhP1U4rcVl803qOktFgLv9o=</td>\n",
       "      <td>discover</td>\n",
       "      <td>Online playlist more</td>\n",
       "      <td>online-playlist</td>\n",
       "    </tr>\n",
       "    <tr>\n",
       "      <th>1695760</th>\n",
       "      <td>1695760</td>\n",
       "      <td>Wc3sX9RyaEozCuXyy6daSVYgXAseY6HccmvMwRAmkuk=</td>\n",
       "      <td>HMJU+Q92zjWOHDg3KO+/WHWdFf8UP2f3hpJBKeGMbl0=</td>\n",
       "      <td>discover</td>\n",
       "      <td>Album more</td>\n",
       "      <td>album</td>\n",
       "    </tr>\n",
       "    <tr>\n",
       "      <th>633748</th>\n",
       "      <td>633748</td>\n",
       "      <td>LefrUriGp2YsuXM07RE20d4mSHJB75/oSi0AO96OqEg=</td>\n",
       "      <td>z1bWPlWOviDqx9TKHze5LV6Hf40yNY2PhUH5bqV4JMc=</td>\n",
       "      <td>discover</td>\n",
       "      <td>Discover Chart</td>\n",
       "      <td>online-playlist</td>\n",
       "    </tr>\n",
       "    <tr>\n",
       "      <th>1786344</th>\n",
       "      <td>1786344</td>\n",
       "      <td>VmVNLJQRDxLsfXpE9ViQWm/H7P/gB/sjye6tdBBwf9s=</td>\n",
       "      <td>kMIJnH+Xma633KX+coW+4Jy517FE7ayQfvEWue2knfQ=</td>\n",
       "      <td>discover</td>\n",
       "      <td>Discover Chart</td>\n",
       "      <td>online-playlist</td>\n",
       "    </tr>\n",
       "  </tbody>\n",
       "</table>\n",
       "</div>"
      ],
      "text/plain": [
       "              id                                          msno  \\\n",
       "620753    620753  x9JYlJSBNsO+ikp41JA/A3QgISfzekspIBUutZUwCrA=   \n",
       "24312      24312  omj9hjUFiWmCCpiTn0BWFFSofE+ZdkZkx4jlgWgo1Wo=   \n",
       "1695760  1695760  Wc3sX9RyaEozCuXyy6daSVYgXAseY6HccmvMwRAmkuk=   \n",
       "633748    633748  LefrUriGp2YsuXM07RE20d4mSHJB75/oSi0AO96OqEg=   \n",
       "1786344  1786344  VmVNLJQRDxLsfXpE9ViQWm/H7P/gB/sjye6tdBBwf9s=   \n",
       "\n",
       "                                              song_id source_system_tab  \\\n",
       "620753   RtruXqI7qVe60bQrQ+VE3fgdcRnL+If4fnd29LlR3J4=        my library   \n",
       "24312    sYTikvUS4j1SLw2v3WggJhP1U4rcVl803qOktFgLv9o=          discover   \n",
       "1695760  HMJU+Q92zjWOHDg3KO+/WHWdFf8UP2f3hpJBKeGMbl0=          discover   \n",
       "633748   z1bWPlWOviDqx9TKHze5LV6Hf40yNY2PhUH5bqV4JMc=          discover   \n",
       "1786344  kMIJnH+Xma633KX+coW+4Jy517FE7ayQfvEWue2knfQ=          discover   \n",
       "\n",
       "           source_screen_name      source_type  \n",
       "620753    Local playlist more    local-library  \n",
       "24312    Online playlist more  online-playlist  \n",
       "1695760            Album more            album  \n",
       "633748         Discover Chart  online-playlist  \n",
       "1786344        Discover Chart  online-playlist  "
      ]
     },
     "execution_count": 15,
     "metadata": {},
     "output_type": "execute_result"
    }
   ],
   "source": [
    "test.sample(5)"
   ]
  },
  {
   "cell_type": "markdown",
   "metadata": {},
   "source": [
    "## Checking the null values"
   ]
  },
  {
   "cell_type": "code",
   "execution_count": 16,
   "metadata": {
    "id": "29fBkO6_7Nx5"
   },
   "outputs": [
    {
     "data": {
      "text/plain": [
       "msno                          0\n",
       "city                          0\n",
       "bd                            0\n",
       "gender                    19902\n",
       "registered_via                0\n",
       "registration_init_time        0\n",
       "expiration_date               0\n",
       "dtype: int64"
      ]
     },
     "execution_count": 16,
     "metadata": {},
     "output_type": "execute_result"
    }
   ],
   "source": [
    " members.isnull().sum()"
   ]
  },
  {
   "cell_type": "code",
   "execution_count": 17,
   "metadata": {
    "colab": {
     "base_uri": "https://localhost:8080/"
    },
    "id": "lZcEJ1ot7We0",
    "outputId": "b26a243f-9ea6-4d43-f8c3-03ccf94ff4ab"
   },
   "outputs": [
    {
     "data": {
      "text/plain": [
       "id        0\n",
       "target    0\n",
       "dtype: int64"
      ]
     },
     "execution_count": 17,
     "metadata": {},
     "output_type": "execute_result"
    }
   ],
   "source": [
    "submission.isnull().sum()"
   ]
  },
  {
   "cell_type": "code",
   "execution_count": 18,
   "metadata": {
    "colab": {
     "base_uri": "https://localhost:8080/"
    },
    "id": "KPJDmxSp7SQj",
    "outputId": "aa35c3ad-3175-4169-e0af-654fc41aec87"
   },
   "outputs": [
    {
     "data": {
      "text/plain": [
       "song_id         0\n",
       "name            2\n",
       "isrc       136548\n",
       "dtype: int64"
      ]
     },
     "execution_count": 18,
     "metadata": {},
     "output_type": "execute_result"
    }
   ],
   "source": [
    "songs_info.isnull().sum()"
   ]
  },
  {
   "cell_type": "code",
   "execution_count": 19,
   "metadata": {
    "colab": {
     "base_uri": "https://localhost:8080/",
     "height": 448
    },
    "id": "l9xhb1_97SUE",
    "outputId": "28f18180-8cec-4584-e1aa-b08cf01bf094"
   },
   "outputs": [
    {
     "data": {
      "text/plain": [
       "song_id            0\n",
       "song_length        0\n",
       "genre_ids        346\n",
       "artist_name        0\n",
       "composer        8382\n",
       "lyricist       14332\n",
       "language           0\n",
       "dtype: int64"
      ]
     },
     "execution_count": 19,
     "metadata": {},
     "output_type": "execute_result"
    }
   ],
   "source": [
    "songs.isnull().sum()"
   ]
  },
  {
   "cell_type": "code",
   "execution_count": 20,
   "metadata": {
    "colab": {
     "base_uri": "https://localhost:8080/",
     "height": 714
    },
    "id": "7ZDD7dJm70i3",
    "outputId": "78083377-fd74-4497-9b4d-71ecf32fde9f"
   },
   "outputs": [
    {
     "data": {
      "text/plain": [
       "msno                    0\n",
       "song_id                 0\n",
       "source_system_tab      67\n",
       "source_screen_name    576\n",
       "source_type            50\n",
       "target                  0\n",
       "dtype: int64"
      ]
     },
     "execution_count": 20,
     "metadata": {},
     "output_type": "execute_result"
    }
   ],
   "source": [
    "train.isnull().sum()"
   ]
  },
  {
   "cell_type": "code",
   "execution_count": 21,
   "metadata": {
    "colab": {
     "base_uri": "https://localhost:8080/"
    },
    "id": "HEJAHuha77Qa",
    "outputId": "c31c1d9a-6e37-4303-84d3-0aa931f87757"
   },
   "outputs": [
    {
     "data": {
      "text/plain": [
       "id                         0\n",
       "msno                       0\n",
       "song_id                    0\n",
       "source_system_tab       8442\n",
       "source_screen_name    162883\n",
       "source_type             7297\n",
       "dtype: int64"
      ]
     },
     "execution_count": 21,
     "metadata": {},
     "output_type": "execute_result"
    }
   ],
   "source": [
    "test.isnull().sum()"
   ]
  },
  {
   "cell_type": "code",
   "execution_count": 22,
   "metadata": {
    "id": "Z59wwwts8uA8"
   },
   "outputs": [
    {
     "data": {
      "text/plain": [
       "(20000, 7)"
      ]
     },
     "execution_count": 22,
     "metadata": {},
     "output_type": "execute_result"
    }
   ],
   "source": [
    "songs.shape"
   ]
  },
  {
   "cell_type": "code",
   "execution_count": 23,
   "metadata": {
    "colab": {
     "base_uri": "https://localhost:8080/"
    },
    "id": "xYzZnIqV9HIz",
    "outputId": "b1568cbb-99d2-4e73-a65b-9057f78e56cc"
   },
   "outputs": [
    {
     "data": {
      "text/plain": [
       "song_id        0.0000\n",
       "song_length    0.0000\n",
       "genre_ids      0.0173\n",
       "artist_name    0.0000\n",
       "composer       0.4191\n",
       "lyricist       0.7166\n",
       "language       0.0000\n",
       "dtype: float64"
      ]
     },
     "execution_count": 23,
     "metadata": {},
     "output_type": "execute_result"
    }
   ],
   "source": [
    "songs.isnull().mean()"
   ]
  },
  {
   "cell_type": "markdown",
   "metadata": {},
   "source": [
    "## Replacing the nan values with empty string for genre_ids, composer, and lyricist "
   ]
  },
  {
   "cell_type": "code",
   "execution_count": 24,
   "metadata": {
    "id": "cw-uDOrj-6PB"
   },
   "outputs": [],
   "source": [
    "songs['genre_ids'].fillna(' ',inplace=True)\n",
    "songs['composer'].fillna(' ',inplace=True)\n",
    "songs['lyricist'].fillna(' ',inplace=True)"
   ]
  },
  {
   "cell_type": "code",
   "execution_count": 25,
   "metadata": {
    "colab": {
     "base_uri": "https://localhost:8080/"
    },
    "id": "MVs-7STACf3f",
    "outputId": "e1f0241b-2f7e-4695-8465-1559ced9a53c"
   },
   "outputs": [
    {
     "data": {
      "text/plain": [
       "song_id        0\n",
       "song_length    0\n",
       "genre_ids      0\n",
       "artist_name    0\n",
       "composer       0\n",
       "lyricist       0\n",
       "language       0\n",
       "dtype: int64"
      ]
     },
     "execution_count": 25,
     "metadata": {},
     "output_type": "execute_result"
    }
   ],
   "source": [
    "songs.isnull().sum()"
   ]
  },
  {
   "cell_type": "markdown",
   "metadata": {},
   "source": [
    "# Droping some non-required columns from train data"
   ]
  },
  {
   "cell_type": "code",
   "execution_count": 26,
   "metadata": {
    "id": "o7JQLgKgC-Wc"
   },
   "outputs": [
    {
     "data": {
      "text/html": [
       "<div>\n",
       "<style scoped>\n",
       "    .dataframe tbody tr th:only-of-type {\n",
       "        vertical-align: middle;\n",
       "    }\n",
       "\n",
       "    .dataframe tbody tr th {\n",
       "        vertical-align: top;\n",
       "    }\n",
       "\n",
       "    .dataframe thead th {\n",
       "        text-align: right;\n",
       "    }\n",
       "</style>\n",
       "<table border=\"1\" class=\"dataframe\">\n",
       "  <thead>\n",
       "    <tr style=\"text-align: right;\">\n",
       "      <th></th>\n",
       "      <th>msno</th>\n",
       "      <th>song_id</th>\n",
       "      <th>target</th>\n",
       "    </tr>\n",
       "  </thead>\n",
       "  <tbody>\n",
       "    <tr>\n",
       "      <th>0</th>\n",
       "      <td>FGtllVqz18RPiwJj/edr2gV78zirAiY/9SmYvia+kCg=</td>\n",
       "      <td>BBzumQNXUHKdEBOB7mAJuzok+IJA1c2Ryg/yzTF6tik=</td>\n",
       "      <td>1</td>\n",
       "    </tr>\n",
       "    <tr>\n",
       "      <th>1</th>\n",
       "      <td>Xumu+NIjS6QYVxDS4/t3SawvJ7viT9hPKXmf0RtLNx8=</td>\n",
       "      <td>bhp/MpSNoqoxOIB+/l8WPqu6jldth4DIpCm3ayXnJqM=</td>\n",
       "      <td>1</td>\n",
       "    </tr>\n",
       "    <tr>\n",
       "      <th>2</th>\n",
       "      <td>Xumu+NIjS6QYVxDS4/t3SawvJ7viT9hPKXmf0RtLNx8=</td>\n",
       "      <td>JNWfrrC7zNN7BdMpsISKa4Mw+xVJYNnxXh3/Epw7QgY=</td>\n",
       "      <td>1</td>\n",
       "    </tr>\n",
       "    <tr>\n",
       "      <th>3</th>\n",
       "      <td>Xumu+NIjS6QYVxDS4/t3SawvJ7viT9hPKXmf0RtLNx8=</td>\n",
       "      <td>2A87tzfnJTSWqD7gIZHisolhe4DMdzkbd6LzO1KHjNs=</td>\n",
       "      <td>1</td>\n",
       "    </tr>\n",
       "    <tr>\n",
       "      <th>4</th>\n",
       "      <td>FGtllVqz18RPiwJj/edr2gV78zirAiY/9SmYvia+kCg=</td>\n",
       "      <td>3qm6XTZ6MOCU11x8FIVbAGH5l5uMkT3/ZalWG1oo2Gc=</td>\n",
       "      <td>1</td>\n",
       "    </tr>\n",
       "  </tbody>\n",
       "</table>\n",
       "</div>"
      ],
      "text/plain": [
       "                                           msno  \\\n",
       "0  FGtllVqz18RPiwJj/edr2gV78zirAiY/9SmYvia+kCg=   \n",
       "1  Xumu+NIjS6QYVxDS4/t3SawvJ7viT9hPKXmf0RtLNx8=   \n",
       "2  Xumu+NIjS6QYVxDS4/t3SawvJ7viT9hPKXmf0RtLNx8=   \n",
       "3  Xumu+NIjS6QYVxDS4/t3SawvJ7viT9hPKXmf0RtLNx8=   \n",
       "4  FGtllVqz18RPiwJj/edr2gV78zirAiY/9SmYvia+kCg=   \n",
       "\n",
       "                                        song_id  target  \n",
       "0  BBzumQNXUHKdEBOB7mAJuzok+IJA1c2Ryg/yzTF6tik=       1  \n",
       "1  bhp/MpSNoqoxOIB+/l8WPqu6jldth4DIpCm3ayXnJqM=       1  \n",
       "2  JNWfrrC7zNN7BdMpsISKa4Mw+xVJYNnxXh3/Epw7QgY=       1  \n",
       "3  2A87tzfnJTSWqD7gIZHisolhe4DMdzkbd6LzO1KHjNs=       1  \n",
       "4  3qm6XTZ6MOCU11x8FIVbAGH5l5uMkT3/ZalWG1oo2Gc=       1  "
      ]
     },
     "execution_count": 26,
     "metadata": {},
     "output_type": "execute_result"
    }
   ],
   "source": [
    "train = train.drop(['source_system_tab','source_screen_name','source_type'],axis=1)\n",
    "train.head()"
   ]
  },
  {
   "cell_type": "markdown",
   "metadata": {},
   "source": [
    "# Renaming the column name"
   ]
  },
  {
   "cell_type": "code",
   "execution_count": 27,
   "metadata": {
    "colab": {
     "base_uri": "https://localhost:8080/"
    },
    "id": "B0hOGaTQDLRJ",
    "outputId": "697bab9e-6c6e-4e74-b9a9-a7574795ac6e"
   },
   "outputs": [
    {
     "data": {
      "text/html": [
       "<div>\n",
       "<style scoped>\n",
       "    .dataframe tbody tr th:only-of-type {\n",
       "        vertical-align: middle;\n",
       "    }\n",
       "\n",
       "    .dataframe tbody tr th {\n",
       "        vertical-align: top;\n",
       "    }\n",
       "\n",
       "    .dataframe thead th {\n",
       "        text-align: right;\n",
       "    }\n",
       "</style>\n",
       "<table border=\"1\" class=\"dataframe\">\n",
       "  <thead>\n",
       "    <tr style=\"text-align: right;\">\n",
       "      <th></th>\n",
       "      <th>user_id</th>\n",
       "      <th>song_id</th>\n",
       "      <th>target</th>\n",
       "    </tr>\n",
       "  </thead>\n",
       "  <tbody>\n",
       "    <tr>\n",
       "      <th>0</th>\n",
       "      <td>FGtllVqz18RPiwJj/edr2gV78zirAiY/9SmYvia+kCg=</td>\n",
       "      <td>BBzumQNXUHKdEBOB7mAJuzok+IJA1c2Ryg/yzTF6tik=</td>\n",
       "      <td>1</td>\n",
       "    </tr>\n",
       "    <tr>\n",
       "      <th>1</th>\n",
       "      <td>Xumu+NIjS6QYVxDS4/t3SawvJ7viT9hPKXmf0RtLNx8=</td>\n",
       "      <td>bhp/MpSNoqoxOIB+/l8WPqu6jldth4DIpCm3ayXnJqM=</td>\n",
       "      <td>1</td>\n",
       "    </tr>\n",
       "    <tr>\n",
       "      <th>2</th>\n",
       "      <td>Xumu+NIjS6QYVxDS4/t3SawvJ7viT9hPKXmf0RtLNx8=</td>\n",
       "      <td>JNWfrrC7zNN7BdMpsISKa4Mw+xVJYNnxXh3/Epw7QgY=</td>\n",
       "      <td>1</td>\n",
       "    </tr>\n",
       "    <tr>\n",
       "      <th>3</th>\n",
       "      <td>Xumu+NIjS6QYVxDS4/t3SawvJ7viT9hPKXmf0RtLNx8=</td>\n",
       "      <td>2A87tzfnJTSWqD7gIZHisolhe4DMdzkbd6LzO1KHjNs=</td>\n",
       "      <td>1</td>\n",
       "    </tr>\n",
       "    <tr>\n",
       "      <th>4</th>\n",
       "      <td>FGtllVqz18RPiwJj/edr2gV78zirAiY/9SmYvia+kCg=</td>\n",
       "      <td>3qm6XTZ6MOCU11x8FIVbAGH5l5uMkT3/ZalWG1oo2Gc=</td>\n",
       "      <td>1</td>\n",
       "    </tr>\n",
       "  </tbody>\n",
       "</table>\n",
       "</div>"
      ],
      "text/plain": [
       "                                        user_id  \\\n",
       "0  FGtllVqz18RPiwJj/edr2gV78zirAiY/9SmYvia+kCg=   \n",
       "1  Xumu+NIjS6QYVxDS4/t3SawvJ7viT9hPKXmf0RtLNx8=   \n",
       "2  Xumu+NIjS6QYVxDS4/t3SawvJ7viT9hPKXmf0RtLNx8=   \n",
       "3  Xumu+NIjS6QYVxDS4/t3SawvJ7viT9hPKXmf0RtLNx8=   \n",
       "4  FGtllVqz18RPiwJj/edr2gV78zirAiY/9SmYvia+kCg=   \n",
       "\n",
       "                                        song_id  target  \n",
       "0  BBzumQNXUHKdEBOB7mAJuzok+IJA1c2Ryg/yzTF6tik=       1  \n",
       "1  bhp/MpSNoqoxOIB+/l8WPqu6jldth4DIpCm3ayXnJqM=       1  \n",
       "2  JNWfrrC7zNN7BdMpsISKa4Mw+xVJYNnxXh3/Epw7QgY=       1  \n",
       "3  2A87tzfnJTSWqD7gIZHisolhe4DMdzkbd6LzO1KHjNs=       1  \n",
       "4  3qm6XTZ6MOCU11x8FIVbAGH5l5uMkT3/ZalWG1oo2Gc=       1  "
      ]
     },
     "execution_count": 27,
     "metadata": {},
     "output_type": "execute_result"
    }
   ],
   "source": [
    "train.rename(columns={'msno':'user_id'},inplace=True)\n",
    "train.head()"
   ]
  },
  {
   "cell_type": "code",
   "execution_count": 28,
   "metadata": {
    "id": "Ch_LJ5erDQZX"
   },
   "outputs": [
    {
     "data": {
      "text/plain": [
       "(20000, 3)"
      ]
     },
     "execution_count": 28,
     "metadata": {},
     "output_type": "execute_result"
    }
   ],
   "source": [
    "train.shape"
   ]
  },
  {
   "cell_type": "markdown",
   "metadata": {
    "id": "BPp9EhePDk-T"
   },
   "source": [
    "# **Basic Preprocessing**"
   ]
  },
  {
   "cell_type": "markdown",
   "metadata": {},
   "source": [
    "# Merging songs and train dataset"
   ]
  },
  {
   "cell_type": "code",
   "execution_count": 29,
   "metadata": {
    "id": "Ac1W8Lp1Dn9V"
   },
   "outputs": [],
   "source": [
    "df = train.merge(songs, on='song_id')"
   ]
  },
  {
   "cell_type": "markdown",
   "metadata": {},
   "source": [
    "# Dropping 'song_length','language' column"
   ]
  },
  {
   "cell_type": "code",
   "execution_count": 30,
   "metadata": {
    "colab": {
     "base_uri": "https://localhost:8080/"
    },
    "id": "LxgfLpAFD2iA",
    "outputId": "ce4f6002-fe37-45d1-a6af-4ed347550e27"
   },
   "outputs": [
    {
     "data": {
      "text/html": [
       "<div>\n",
       "<style scoped>\n",
       "    .dataframe tbody tr th:only-of-type {\n",
       "        vertical-align: middle;\n",
       "    }\n",
       "\n",
       "    .dataframe tbody tr th {\n",
       "        vertical-align: top;\n",
       "    }\n",
       "\n",
       "    .dataframe thead th {\n",
       "        text-align: right;\n",
       "    }\n",
       "</style>\n",
       "<table border=\"1\" class=\"dataframe\">\n",
       "  <thead>\n",
       "    <tr style=\"text-align: right;\">\n",
       "      <th></th>\n",
       "      <th>user_id</th>\n",
       "      <th>song_id</th>\n",
       "      <th>target</th>\n",
       "      <th>genre_ids</th>\n",
       "      <th>artist_name</th>\n",
       "      <th>composer</th>\n",
       "      <th>lyricist</th>\n",
       "    </tr>\n",
       "  </thead>\n",
       "  <tbody>\n",
       "    <tr>\n",
       "      <th>0</th>\n",
       "      <td>FGtllVqz18RPiwJj/edr2gV78zirAiY/9SmYvia+kCg=</td>\n",
       "      <td>3Hg5kugV1S0wzEVLAEfqjIV5UHzb7bCrdBRQlGygLvU=</td>\n",
       "      <td>1</td>\n",
       "      <td>1259</td>\n",
       "      <td>Desiigner</td>\n",
       "      <td>Sidney Selby| Adnan Khan</td>\n",
       "      <td></td>\n",
       "    </tr>\n",
       "    <tr>\n",
       "      <th>1</th>\n",
       "      <td>hZyOA+0yqClPLt6uIEndf8fG8szH/95eKMbaxLE5z30=</td>\n",
       "      <td>3Hg5kugV1S0wzEVLAEfqjIV5UHzb7bCrdBRQlGygLvU=</td>\n",
       "      <td>1</td>\n",
       "      <td>1259</td>\n",
       "      <td>Desiigner</td>\n",
       "      <td>Sidney Selby| Adnan Khan</td>\n",
       "      <td></td>\n",
       "    </tr>\n",
       "    <tr>\n",
       "      <th>2</th>\n",
       "      <td>0LhkakIQDn36HZXI6ClQSO7W7jkpZAy+9MvYgPOZGrA=</td>\n",
       "      <td>skehue/d/R59G71dXYpntDwdjRRPlweN3JE8g40TgZU=</td>\n",
       "      <td>1</td>\n",
       "      <td>458</td>\n",
       "      <td>莊心妍</td>\n",
       "      <td>鄭建浩</td>\n",
       "      <td>鄭建浩</td>\n",
       "    </tr>\n",
       "    <tr>\n",
       "      <th>3</th>\n",
       "      <td>MofmAMt7P8LIcF4+LLlcjyIhYUzmv13L/LRwYFxiGYE=</td>\n",
       "      <td>skehue/d/R59G71dXYpntDwdjRRPlweN3JE8g40TgZU=</td>\n",
       "      <td>1</td>\n",
       "      <td>458</td>\n",
       "      <td>莊心妍</td>\n",
       "      <td>鄭建浩</td>\n",
       "      <td>鄭建浩</td>\n",
       "    </tr>\n",
       "    <tr>\n",
       "      <th>4</th>\n",
       "      <td>U9Z+N+szYGJHTPMn/C0V7yIyIC24fDI0RDRWChXATkg=</td>\n",
       "      <td>skehue/d/R59G71dXYpntDwdjRRPlweN3JE8g40TgZU=</td>\n",
       "      <td>0</td>\n",
       "      <td>458</td>\n",
       "      <td>莊心妍</td>\n",
       "      <td>鄭建浩</td>\n",
       "      <td>鄭建浩</td>\n",
       "    </tr>\n",
       "  </tbody>\n",
       "</table>\n",
       "</div>"
      ],
      "text/plain": [
       "                                        user_id  \\\n",
       "0  FGtllVqz18RPiwJj/edr2gV78zirAiY/9SmYvia+kCg=   \n",
       "1  hZyOA+0yqClPLt6uIEndf8fG8szH/95eKMbaxLE5z30=   \n",
       "2  0LhkakIQDn36HZXI6ClQSO7W7jkpZAy+9MvYgPOZGrA=   \n",
       "3  MofmAMt7P8LIcF4+LLlcjyIhYUzmv13L/LRwYFxiGYE=   \n",
       "4  U9Z+N+szYGJHTPMn/C0V7yIyIC24fDI0RDRWChXATkg=   \n",
       "\n",
       "                                        song_id  target genre_ids artist_name  \\\n",
       "0  3Hg5kugV1S0wzEVLAEfqjIV5UHzb7bCrdBRQlGygLvU=       1      1259   Desiigner   \n",
       "1  3Hg5kugV1S0wzEVLAEfqjIV5UHzb7bCrdBRQlGygLvU=       1      1259   Desiigner   \n",
       "2  skehue/d/R59G71dXYpntDwdjRRPlweN3JE8g40TgZU=       1       458         莊心妍   \n",
       "3  skehue/d/R59G71dXYpntDwdjRRPlweN3JE8g40TgZU=       1       458         莊心妍   \n",
       "4  skehue/d/R59G71dXYpntDwdjRRPlweN3JE8g40TgZU=       0       458         莊心妍   \n",
       "\n",
       "                   composer lyricist  \n",
       "0  Sidney Selby| Adnan Khan           \n",
       "1  Sidney Selby| Adnan Khan           \n",
       "2                       鄭建浩      鄭建浩  \n",
       "3                       鄭建浩      鄭建浩  \n",
       "4                       鄭建浩      鄭建浩  "
      ]
     },
     "execution_count": 30,
     "metadata": {},
     "output_type": "execute_result"
    }
   ],
   "source": [
    "df=df.drop(['song_length','language'],axis=1)\n",
    "df.head()"
   ]
  },
  {
   "cell_type": "markdown",
   "metadata": {},
   "source": [
    "# Merging the songs_info column"
   ]
  },
  {
   "cell_type": "code",
   "execution_count": 32,
   "metadata": {
    "colab": {
     "base_uri": "https://localhost:8080/"
    },
    "id": "o4cKFlKUEL2g",
    "outputId": "3f921de4-ac36-476d-8a23-943ed0646e3b"
   },
   "outputs": [
    {
     "data": {
      "text/html": [
       "<div>\n",
       "<style scoped>\n",
       "    .dataframe tbody tr th:only-of-type {\n",
       "        vertical-align: middle;\n",
       "    }\n",
       "\n",
       "    .dataframe tbody tr th {\n",
       "        vertical-align: top;\n",
       "    }\n",
       "\n",
       "    .dataframe thead th {\n",
       "        text-align: right;\n",
       "    }\n",
       "</style>\n",
       "<table border=\"1\" class=\"dataframe\">\n",
       "  <thead>\n",
       "    <tr style=\"text-align: right;\">\n",
       "      <th></th>\n",
       "      <th>user_id</th>\n",
       "      <th>song_id</th>\n",
       "      <th>target</th>\n",
       "      <th>genre_ids</th>\n",
       "      <th>artist_name</th>\n",
       "      <th>composer</th>\n",
       "      <th>lyricist</th>\n",
       "      <th>name</th>\n",
       "    </tr>\n",
       "  </thead>\n",
       "  <tbody>\n",
       "    <tr>\n",
       "      <th>0</th>\n",
       "      <td>FGtllVqz18RPiwJj/edr2gV78zirAiY/9SmYvia+kCg=</td>\n",
       "      <td>3Hg5kugV1S0wzEVLAEfqjIV5UHzb7bCrdBRQlGygLvU=</td>\n",
       "      <td>1</td>\n",
       "      <td>1259</td>\n",
       "      <td>Desiigner</td>\n",
       "      <td>Sidney Selby| Adnan Khan</td>\n",
       "      <td></td>\n",
       "      <td>Panda</td>\n",
       "    </tr>\n",
       "    <tr>\n",
       "      <th>1</th>\n",
       "      <td>hZyOA+0yqClPLt6uIEndf8fG8szH/95eKMbaxLE5z30=</td>\n",
       "      <td>3Hg5kugV1S0wzEVLAEfqjIV5UHzb7bCrdBRQlGygLvU=</td>\n",
       "      <td>1</td>\n",
       "      <td>1259</td>\n",
       "      <td>Desiigner</td>\n",
       "      <td>Sidney Selby| Adnan Khan</td>\n",
       "      <td></td>\n",
       "      <td>Panda</td>\n",
       "    </tr>\n",
       "    <tr>\n",
       "      <th>2</th>\n",
       "      <td>0LhkakIQDn36HZXI6ClQSO7W7jkpZAy+9MvYgPOZGrA=</td>\n",
       "      <td>skehue/d/R59G71dXYpntDwdjRRPlweN3JE8g40TgZU=</td>\n",
       "      <td>1</td>\n",
       "      <td>458</td>\n",
       "      <td>莊心妍</td>\n",
       "      <td>鄭建浩</td>\n",
       "      <td>鄭建浩</td>\n",
       "      <td>我過的很好</td>\n",
       "    </tr>\n",
       "    <tr>\n",
       "      <th>3</th>\n",
       "      <td>MofmAMt7P8LIcF4+LLlcjyIhYUzmv13L/LRwYFxiGYE=</td>\n",
       "      <td>skehue/d/R59G71dXYpntDwdjRRPlweN3JE8g40TgZU=</td>\n",
       "      <td>1</td>\n",
       "      <td>458</td>\n",
       "      <td>莊心妍</td>\n",
       "      <td>鄭建浩</td>\n",
       "      <td>鄭建浩</td>\n",
       "      <td>我過的很好</td>\n",
       "    </tr>\n",
       "    <tr>\n",
       "      <th>4</th>\n",
       "      <td>U9Z+N+szYGJHTPMn/C0V7yIyIC24fDI0RDRWChXATkg=</td>\n",
       "      <td>skehue/d/R59G71dXYpntDwdjRRPlweN3JE8g40TgZU=</td>\n",
       "      <td>0</td>\n",
       "      <td>458</td>\n",
       "      <td>莊心妍</td>\n",
       "      <td>鄭建浩</td>\n",
       "      <td>鄭建浩</td>\n",
       "      <td>我過的很好</td>\n",
       "    </tr>\n",
       "  </tbody>\n",
       "</table>\n",
       "</div>"
      ],
      "text/plain": [
       "                                        user_id  \\\n",
       "0  FGtllVqz18RPiwJj/edr2gV78zirAiY/9SmYvia+kCg=   \n",
       "1  hZyOA+0yqClPLt6uIEndf8fG8szH/95eKMbaxLE5z30=   \n",
       "2  0LhkakIQDn36HZXI6ClQSO7W7jkpZAy+9MvYgPOZGrA=   \n",
       "3  MofmAMt7P8LIcF4+LLlcjyIhYUzmv13L/LRwYFxiGYE=   \n",
       "4  U9Z+N+szYGJHTPMn/C0V7yIyIC24fDI0RDRWChXATkg=   \n",
       "\n",
       "                                        song_id  target genre_ids artist_name  \\\n",
       "0  3Hg5kugV1S0wzEVLAEfqjIV5UHzb7bCrdBRQlGygLvU=       1      1259   Desiigner   \n",
       "1  3Hg5kugV1S0wzEVLAEfqjIV5UHzb7bCrdBRQlGygLvU=       1      1259   Desiigner   \n",
       "2  skehue/d/R59G71dXYpntDwdjRRPlweN3JE8g40TgZU=       1       458         莊心妍   \n",
       "3  skehue/d/R59G71dXYpntDwdjRRPlweN3JE8g40TgZU=       1       458         莊心妍   \n",
       "4  skehue/d/R59G71dXYpntDwdjRRPlweN3JE8g40TgZU=       0       458         莊心妍   \n",
       "\n",
       "                   composer lyricist   name  \n",
       "0  Sidney Selby| Adnan Khan           Panda  \n",
       "1  Sidney Selby| Adnan Khan           Panda  \n",
       "2                       鄭建浩      鄭建浩  我過的很好  \n",
       "3                       鄭建浩      鄭建浩  我過的很好  \n",
       "4                       鄭建浩      鄭建浩  我過的很好  "
      ]
     },
     "execution_count": 32,
     "metadata": {},
     "output_type": "execute_result"
    }
   ],
   "source": [
    "df = df.merge(songs_info, on='song_id').drop('isrc', axis=1)\n",
    "df.head()"
   ]
  },
  {
   "cell_type": "markdown",
   "metadata": {},
   "source": [
    "# Renaming the columns"
   ]
  },
  {
   "cell_type": "code",
   "execution_count": 33,
   "metadata": {
    "colab": {
     "base_uri": "https://localhost:8080/"
    },
    "id": "lFrl5BkkGxox",
    "outputId": "a8e428d2-ffd0-4fb3-d34b-6e4884f861f5"
   },
   "outputs": [
    {
     "data": {
      "text/html": [
       "<div>\n",
       "<style scoped>\n",
       "    .dataframe tbody tr th:only-of-type {\n",
       "        vertical-align: middle;\n",
       "    }\n",
       "\n",
       "    .dataframe tbody tr th {\n",
       "        vertical-align: top;\n",
       "    }\n",
       "\n",
       "    .dataframe thead th {\n",
       "        text-align: right;\n",
       "    }\n",
       "</style>\n",
       "<table border=\"1\" class=\"dataframe\">\n",
       "  <thead>\n",
       "    <tr style=\"text-align: right;\">\n",
       "      <th></th>\n",
       "      <th>user_id</th>\n",
       "      <th>song_id</th>\n",
       "      <th>target</th>\n",
       "      <th>genre_ids</th>\n",
       "      <th>artist_name</th>\n",
       "      <th>composer</th>\n",
       "      <th>lyricist</th>\n",
       "      <th>song_name</th>\n",
       "    </tr>\n",
       "  </thead>\n",
       "  <tbody>\n",
       "    <tr>\n",
       "      <th>0</th>\n",
       "      <td>FGtllVqz18RPiwJj/edr2gV78zirAiY/9SmYvia+kCg=</td>\n",
       "      <td>3Hg5kugV1S0wzEVLAEfqjIV5UHzb7bCrdBRQlGygLvU=</td>\n",
       "      <td>1</td>\n",
       "      <td>1259</td>\n",
       "      <td>Desiigner</td>\n",
       "      <td>Sidney Selby| Adnan Khan</td>\n",
       "      <td></td>\n",
       "      <td>Panda</td>\n",
       "    </tr>\n",
       "    <tr>\n",
       "      <th>1</th>\n",
       "      <td>hZyOA+0yqClPLt6uIEndf8fG8szH/95eKMbaxLE5z30=</td>\n",
       "      <td>3Hg5kugV1S0wzEVLAEfqjIV5UHzb7bCrdBRQlGygLvU=</td>\n",
       "      <td>1</td>\n",
       "      <td>1259</td>\n",
       "      <td>Desiigner</td>\n",
       "      <td>Sidney Selby| Adnan Khan</td>\n",
       "      <td></td>\n",
       "      <td>Panda</td>\n",
       "    </tr>\n",
       "    <tr>\n",
       "      <th>2</th>\n",
       "      <td>0LhkakIQDn36HZXI6ClQSO7W7jkpZAy+9MvYgPOZGrA=</td>\n",
       "      <td>skehue/d/R59G71dXYpntDwdjRRPlweN3JE8g40TgZU=</td>\n",
       "      <td>1</td>\n",
       "      <td>458</td>\n",
       "      <td>莊心妍</td>\n",
       "      <td>鄭建浩</td>\n",
       "      <td>鄭建浩</td>\n",
       "      <td>我過的很好</td>\n",
       "    </tr>\n",
       "    <tr>\n",
       "      <th>3</th>\n",
       "      <td>MofmAMt7P8LIcF4+LLlcjyIhYUzmv13L/LRwYFxiGYE=</td>\n",
       "      <td>skehue/d/R59G71dXYpntDwdjRRPlweN3JE8g40TgZU=</td>\n",
       "      <td>1</td>\n",
       "      <td>458</td>\n",
       "      <td>莊心妍</td>\n",
       "      <td>鄭建浩</td>\n",
       "      <td>鄭建浩</td>\n",
       "      <td>我過的很好</td>\n",
       "    </tr>\n",
       "    <tr>\n",
       "      <th>4</th>\n",
       "      <td>U9Z+N+szYGJHTPMn/C0V7yIyIC24fDI0RDRWChXATkg=</td>\n",
       "      <td>skehue/d/R59G71dXYpntDwdjRRPlweN3JE8g40TgZU=</td>\n",
       "      <td>0</td>\n",
       "      <td>458</td>\n",
       "      <td>莊心妍</td>\n",
       "      <td>鄭建浩</td>\n",
       "      <td>鄭建浩</td>\n",
       "      <td>我過的很好</td>\n",
       "    </tr>\n",
       "  </tbody>\n",
       "</table>\n",
       "</div>"
      ],
      "text/plain": [
       "                                        user_id  \\\n",
       "0  FGtllVqz18RPiwJj/edr2gV78zirAiY/9SmYvia+kCg=   \n",
       "1  hZyOA+0yqClPLt6uIEndf8fG8szH/95eKMbaxLE5z30=   \n",
       "2  0LhkakIQDn36HZXI6ClQSO7W7jkpZAy+9MvYgPOZGrA=   \n",
       "3  MofmAMt7P8LIcF4+LLlcjyIhYUzmv13L/LRwYFxiGYE=   \n",
       "4  U9Z+N+szYGJHTPMn/C0V7yIyIC24fDI0RDRWChXATkg=   \n",
       "\n",
       "                                        song_id  target genre_ids artist_name  \\\n",
       "0  3Hg5kugV1S0wzEVLAEfqjIV5UHzb7bCrdBRQlGygLvU=       1      1259   Desiigner   \n",
       "1  3Hg5kugV1S0wzEVLAEfqjIV5UHzb7bCrdBRQlGygLvU=       1      1259   Desiigner   \n",
       "2  skehue/d/R59G71dXYpntDwdjRRPlweN3JE8g40TgZU=       1       458         莊心妍   \n",
       "3  skehue/d/R59G71dXYpntDwdjRRPlweN3JE8g40TgZU=       1       458         莊心妍   \n",
       "4  skehue/d/R59G71dXYpntDwdjRRPlweN3JE8g40TgZU=       0       458         莊心妍   \n",
       "\n",
       "                   composer lyricist song_name  \n",
       "0  Sidney Selby| Adnan Khan              Panda  \n",
       "1  Sidney Selby| Adnan Khan              Panda  \n",
       "2                       鄭建浩      鄭建浩     我過的很好  \n",
       "3                       鄭建浩      鄭建浩     我過的很好  \n",
       "4                       鄭建浩      鄭建浩     我過的很好  "
      ]
     },
     "execution_count": 33,
     "metadata": {},
     "output_type": "execute_result"
    }
   ],
   "source": [
    "df.rename(columns={'name':'song_name'}, inplace=True)\n",
    "df.head()"
   ]
  },
  {
   "cell_type": "markdown",
   "metadata": {},
   "source": [
    "# Number of vales in gener_ids"
   ]
  },
  {
   "cell_type": "code",
   "execution_count": 34,
   "metadata": {
    "id": "O7VfhrnVHNfJ"
   },
   "outputs": [
    {
     "data": {
      "text/plain": [
       "465                    710\n",
       "458                    400\n",
       "444                     65\n",
       "1609                    57\n",
       "921                     49\n",
       "359                     32\n",
       "                        26\n",
       "139                     24\n",
       "2022                    21\n",
       "1259                    20\n",
       "2122                    13\n",
       "139|125|109              7\n",
       "726                      7\n",
       "451                      7\n",
       "437                      7\n",
       "958                      6\n",
       "786|947                  6\n",
       "465|1259                 4\n",
       "1011                     4\n",
       "786                      4\n",
       "947                      4\n",
       "691                      3\n",
       "921|465                  3\n",
       "430                      3\n",
       "921|458                  2\n",
       "458|1287                 2\n",
       "698                      2\n",
       "444|1259                 2\n",
       "829                      2\n",
       "850                      2\n",
       "1152                     1\n",
       "880|458                  1\n",
       "465|829                  1\n",
       "864|857|850|843          1\n",
       "465|798                  1\n",
       "474                      1\n",
       "864|850|726|857|843      1\n",
       "388                      1\n",
       "864|786|850|857|843      1\n",
       "940                      1\n",
       "1609|465                 1\n",
       "465|2122                 1\n",
       "423                      1\n",
       "726|242                  1\n",
       "437|850                  1\n",
       "Name: genre_ids, dtype: int64"
      ]
     },
     "execution_count": 34,
     "metadata": {},
     "output_type": "execute_result"
    }
   ],
   "source": [
    "df['genre_ids'].value_counts()"
   ]
  },
  {
   "cell_type": "markdown",
   "metadata": {},
   "source": [
    "# Replacing this | symbol into empty string"
   ]
  },
  {
   "cell_type": "code",
   "execution_count": 35,
   "metadata": {
    "colab": {
     "base_uri": "https://localhost:8080/"
    },
    "id": "Vq0oBd9NILtm",
    "outputId": "b58938c4-8d33-4f00-f05c-35855bc9ed7b"
   },
   "outputs": [
    {
     "data": {
      "text/plain": [
       "465                    710\n",
       "458                    400\n",
       "444                     65\n",
       "1609                    57\n",
       "921                     49\n",
       "359                     32\n",
       "                        26\n",
       "139                     24\n",
       "2022                    21\n",
       "1259                    20\n",
       "2122                    13\n",
       "139 125 109              7\n",
       "726                      7\n",
       "451                      7\n",
       "437                      7\n",
       "958                      6\n",
       "786 947                  6\n",
       "465 1259                 4\n",
       "1011                     4\n",
       "786                      4\n",
       "947                      4\n",
       "691                      3\n",
       "921 465                  3\n",
       "430                      3\n",
       "921 458                  2\n",
       "458 1287                 2\n",
       "698                      2\n",
       "444 1259                 2\n",
       "829                      2\n",
       "850                      2\n",
       "1152                     1\n",
       "880 458                  1\n",
       "465 829                  1\n",
       "864 857 850 843          1\n",
       "465 798                  1\n",
       "474                      1\n",
       "864 850 726 857 843      1\n",
       "388                      1\n",
       "864 786 850 857 843      1\n",
       "940                      1\n",
       "1609 465                 1\n",
       "465 2122                 1\n",
       "423                      1\n",
       "726 242                  1\n",
       "437 850                  1\n",
       "Name: genre_ids, dtype: int64"
      ]
     },
     "execution_count": 35,
     "metadata": {},
     "output_type": "execute_result"
    }
   ],
   "source": [
    "df['genre_ids']=df['genre_ids'].str.replace('|',' ',regex=True)\n",
    "df['genre_ids'].value_counts()"
   ]
  },
  {
   "cell_type": "markdown",
   "metadata": {},
   "source": [
    "# Replacing this | symbol from every column"
   ]
  },
  {
   "cell_type": "code",
   "execution_count": 36,
   "metadata": {},
   "outputs": [],
   "source": [
    "df['artist_name'] = df['artist_name'].str.replace('|', ' ', regex=True)\n",
    "df['artist_name'] = df['artist_name'].str.replace('/', ' ', regex=True)\n",
    "df['composer'] = df['composer'].str.replace('|', ' ', regex=True)\n",
    "df['composer'] = df['composer'].str.replace('/', ' ', regex=True)\n",
    "df['lyricist'] = df['lyricist'].str.replace('|', ' ', regex=True)\n",
    "df['lyricist'] = df['lyricist'].str.replace('/', ' ', regex=True)"
   ]
  },
  {
   "cell_type": "markdown",
   "metadata": {},
   "source": [
    "# Text Preprocessing"
   ]
  },
  {
   "cell_type": "code",
   "execution_count": 37,
   "metadata": {},
   "outputs": [
    {
     "data": {
      "text/html": [
       "<div>\n",
       "<style scoped>\n",
       "    .dataframe tbody tr th:only-of-type {\n",
       "        vertical-align: middle;\n",
       "    }\n",
       "\n",
       "    .dataframe tbody tr th {\n",
       "        vertical-align: top;\n",
       "    }\n",
       "\n",
       "    .dataframe thead th {\n",
       "        text-align: right;\n",
       "    }\n",
       "</style>\n",
       "<table border=\"1\" class=\"dataframe\">\n",
       "  <thead>\n",
       "    <tr style=\"text-align: right;\">\n",
       "      <th></th>\n",
       "      <th>user_id</th>\n",
       "      <th>song_id</th>\n",
       "      <th>target</th>\n",
       "      <th>genre_ids</th>\n",
       "      <th>artist_name</th>\n",
       "      <th>composer</th>\n",
       "      <th>lyricist</th>\n",
       "      <th>song_name</th>\n",
       "      <th>songs_details</th>\n",
       "    </tr>\n",
       "  </thead>\n",
       "  <tbody>\n",
       "    <tr>\n",
       "      <th>0</th>\n",
       "      <td>FGtllVqz18RPiwJj/edr2gV78zirAiY/9SmYvia+kCg=</td>\n",
       "      <td>3Hg5kugV1S0wzEVLAEfqjIV5UHzb7bCrdBRQlGygLvU=</td>\n",
       "      <td>1</td>\n",
       "      <td>1259</td>\n",
       "      <td>desiigner</td>\n",
       "      <td>sidney selby  adnan khan</td>\n",
       "      <td></td>\n",
       "      <td>Panda</td>\n",
       "      <td>desiignersidney selby  adnan khan</td>\n",
       "    </tr>\n",
       "    <tr>\n",
       "      <th>1</th>\n",
       "      <td>hZyOA+0yqClPLt6uIEndf8fG8szH/95eKMbaxLE5z30=</td>\n",
       "      <td>3Hg5kugV1S0wzEVLAEfqjIV5UHzb7bCrdBRQlGygLvU=</td>\n",
       "      <td>1</td>\n",
       "      <td>1259</td>\n",
       "      <td>desiigner</td>\n",
       "      <td>sidney selby  adnan khan</td>\n",
       "      <td></td>\n",
       "      <td>Panda</td>\n",
       "      <td>desiignersidney selby  adnan khan</td>\n",
       "    </tr>\n",
       "    <tr>\n",
       "      <th>2</th>\n",
       "      <td>0LhkakIQDn36HZXI6ClQSO7W7jkpZAy+9MvYgPOZGrA=</td>\n",
       "      <td>skehue/d/R59G71dXYpntDwdjRRPlweN3JE8g40TgZU=</td>\n",
       "      <td>1</td>\n",
       "      <td>458</td>\n",
       "      <td>莊心妍</td>\n",
       "      <td>鄭建浩</td>\n",
       "      <td>鄭建浩</td>\n",
       "      <td>我過的很好</td>\n",
       "      <td>莊心妍鄭建浩鄭建浩</td>\n",
       "    </tr>\n",
       "    <tr>\n",
       "      <th>3</th>\n",
       "      <td>MofmAMt7P8LIcF4+LLlcjyIhYUzmv13L/LRwYFxiGYE=</td>\n",
       "      <td>skehue/d/R59G71dXYpntDwdjRRPlweN3JE8g40TgZU=</td>\n",
       "      <td>1</td>\n",
       "      <td>458</td>\n",
       "      <td>莊心妍</td>\n",
       "      <td>鄭建浩</td>\n",
       "      <td>鄭建浩</td>\n",
       "      <td>我過的很好</td>\n",
       "      <td>莊心妍鄭建浩鄭建浩</td>\n",
       "    </tr>\n",
       "    <tr>\n",
       "      <th>4</th>\n",
       "      <td>U9Z+N+szYGJHTPMn/C0V7yIyIC24fDI0RDRWChXATkg=</td>\n",
       "      <td>skehue/d/R59G71dXYpntDwdjRRPlweN3JE8g40TgZU=</td>\n",
       "      <td>0</td>\n",
       "      <td>458</td>\n",
       "      <td>莊心妍</td>\n",
       "      <td>鄭建浩</td>\n",
       "      <td>鄭建浩</td>\n",
       "      <td>我過的很好</td>\n",
       "      <td>莊心妍鄭建浩鄭建浩</td>\n",
       "    </tr>\n",
       "  </tbody>\n",
       "</table>\n",
       "</div>"
      ],
      "text/plain": [
       "                                        user_id  \\\n",
       "0  FGtllVqz18RPiwJj/edr2gV78zirAiY/9SmYvia+kCg=   \n",
       "1  hZyOA+0yqClPLt6uIEndf8fG8szH/95eKMbaxLE5z30=   \n",
       "2  0LhkakIQDn36HZXI6ClQSO7W7jkpZAy+9MvYgPOZGrA=   \n",
       "3  MofmAMt7P8LIcF4+LLlcjyIhYUzmv13L/LRwYFxiGYE=   \n",
       "4  U9Z+N+szYGJHTPMn/C0V7yIyIC24fDI0RDRWChXATkg=   \n",
       "\n",
       "                                        song_id  target genre_ids artist_name  \\\n",
       "0  3Hg5kugV1S0wzEVLAEfqjIV5UHzb7bCrdBRQlGygLvU=       1      1259   desiigner   \n",
       "1  3Hg5kugV1S0wzEVLAEfqjIV5UHzb7bCrdBRQlGygLvU=       1      1259   desiigner   \n",
       "2  skehue/d/R59G71dXYpntDwdjRRPlweN3JE8g40TgZU=       1       458         莊心妍   \n",
       "3  skehue/d/R59G71dXYpntDwdjRRPlweN3JE8g40TgZU=       1       458         莊心妍   \n",
       "4  skehue/d/R59G71dXYpntDwdjRRPlweN3JE8g40TgZU=       0       458         莊心妍   \n",
       "\n",
       "                   composer lyricist song_name  \\\n",
       "0  sidney selby  adnan khan              Panda   \n",
       "1  sidney selby  adnan khan              Panda   \n",
       "2                       鄭建浩      鄭建浩     我過的很好   \n",
       "3                       鄭建浩      鄭建浩     我過的很好   \n",
       "4                       鄭建浩      鄭建浩     我過的很好   \n",
       "\n",
       "                        songs_details  \n",
       "0  desiignersidney selby  adnan khan   \n",
       "1  desiignersidney selby  adnan khan   \n",
       "2                           莊心妍鄭建浩鄭建浩  \n",
       "3                           莊心妍鄭建浩鄭建浩  \n",
       "4                           莊心妍鄭建浩鄭建浩  "
      ]
     },
     "execution_count": 37,
     "metadata": {},
     "output_type": "execute_result"
    }
   ],
   "source": [
    "df['artist_name'] = df['artist_name'].str.lower()\n",
    "df['composer'] = df['composer'].str.lower()\n",
    "df['lyricist'] = df['lyricist'].str.lower()\n",
    "df['songs_details'] = df['artist_name'] + '' + df['composer'] + df['lyricist']\n",
    "df.head()"
   ]
  },
  {
   "cell_type": "code",
   "execution_count": 38,
   "metadata": {},
   "outputs": [
    {
     "data": {
      "text/plain": [
       "EozJegFxTFIWDb9aJ7O8kSUHAgx4ZIvqf7IuN5Zck50=    19\n",
       "V5U4EGk2kaSKaUGSwhU6g3HBefxflEvAy1vWPu6UBQs=    18\n",
       "Bwg9yS76qujJJeKsYSzfJrMlkjK5Ui7KFkgUcjuXRCg=    12\n",
       "W9NYSCff57nmfyYCiX6IbW0/G3YuwC18h/rld+BGxMY=    11\n",
       "UzlQoa9tdrcpYdh4wksoh+SpWCFcKvRGPA+xLNqghmo=    11\n",
       "                                                ..\n",
       "rb7TT328utsdnd8COyhstig0zciXIURo7M464E60EHg=     1\n",
       "hSn7jMfIURFu+1W3PDIDTxbhM5SxRg9VFRoH23Rm2Ic=     1\n",
       "yrMfQXudhDaA/bOePZtkKErbjZc5pALG79FHPayEy5U=     1\n",
       "iP3eF1In0rH61CfgVmWVYj4CgFcQQ0iVZG7MBA+Plgo=     1\n",
       "j2Sx5B7BrjqCiT3ZwWK4AvepwM14QEalhTPi2/sgdG4=     1\n",
       "Name: user_id, Length: 975, dtype: int64"
      ]
     },
     "execution_count": 38,
     "metadata": {},
     "output_type": "execute_result"
    }
   ],
   "source": [
    "df.user_id.value_counts()"
   ]
  },
  {
   "cell_type": "markdown",
   "metadata": {},
   "source": [
    "# Checking for duplicate values"
   ]
  },
  {
   "cell_type": "code",
   "execution_count": 39,
   "metadata": {},
   "outputs": [
    {
     "data": {
      "text/plain": [
       "0"
      ]
     },
     "execution_count": 39,
     "metadata": {},
     "output_type": "execute_result"
    }
   ],
   "source": [
    " df.duplicated().sum()"
   ]
  },
  {
   "cell_type": "markdown",
   "metadata": {},
   "source": [
    "# Creating a copy file before performing similarity"
   ]
  },
  {
   "cell_type": "code",
   "execution_count": 40,
   "metadata": {},
   "outputs": [
    {
     "data": {
      "text/html": [
       "<div>\n",
       "<style scoped>\n",
       "    .dataframe tbody tr th:only-of-type {\n",
       "        vertical-align: middle;\n",
       "    }\n",
       "\n",
       "    .dataframe tbody tr th {\n",
       "        vertical-align: top;\n",
       "    }\n",
       "\n",
       "    .dataframe thead th {\n",
       "        text-align: right;\n",
       "    }\n",
       "</style>\n",
       "<table border=\"1\" class=\"dataframe\">\n",
       "  <thead>\n",
       "    <tr style=\"text-align: right;\">\n",
       "      <th></th>\n",
       "      <th>user_id</th>\n",
       "      <th>song_id</th>\n",
       "      <th>target</th>\n",
       "      <th>genre_ids</th>\n",
       "      <th>artist_name</th>\n",
       "      <th>composer</th>\n",
       "      <th>lyricist</th>\n",
       "      <th>song_name</th>\n",
       "      <th>songs_details</th>\n",
       "    </tr>\n",
       "  </thead>\n",
       "  <tbody>\n",
       "    <tr>\n",
       "      <th>0</th>\n",
       "      <td>FGtllVqz18RPiwJj/edr2gV78zirAiY/9SmYvia+kCg=</td>\n",
       "      <td>3Hg5kugV1S0wzEVLAEfqjIV5UHzb7bCrdBRQlGygLvU=</td>\n",
       "      <td>1</td>\n",
       "      <td>1259</td>\n",
       "      <td>desiigner</td>\n",
       "      <td>sidney selby  adnan khan</td>\n",
       "      <td></td>\n",
       "      <td>Panda</td>\n",
       "      <td>desiignersidney selby  adnan khan</td>\n",
       "    </tr>\n",
       "    <tr>\n",
       "      <th>1</th>\n",
       "      <td>hZyOA+0yqClPLt6uIEndf8fG8szH/95eKMbaxLE5z30=</td>\n",
       "      <td>3Hg5kugV1S0wzEVLAEfqjIV5UHzb7bCrdBRQlGygLvU=</td>\n",
       "      <td>1</td>\n",
       "      <td>1259</td>\n",
       "      <td>desiigner</td>\n",
       "      <td>sidney selby  adnan khan</td>\n",
       "      <td></td>\n",
       "      <td>Panda</td>\n",
       "      <td>desiignersidney selby  adnan khan</td>\n",
       "    </tr>\n",
       "    <tr>\n",
       "      <th>2</th>\n",
       "      <td>0LhkakIQDn36HZXI6ClQSO7W7jkpZAy+9MvYgPOZGrA=</td>\n",
       "      <td>skehue/d/R59G71dXYpntDwdjRRPlweN3JE8g40TgZU=</td>\n",
       "      <td>1</td>\n",
       "      <td>458</td>\n",
       "      <td>莊心妍</td>\n",
       "      <td>鄭建浩</td>\n",
       "      <td>鄭建浩</td>\n",
       "      <td>我過的很好</td>\n",
       "      <td>莊心妍鄭建浩鄭建浩</td>\n",
       "    </tr>\n",
       "    <tr>\n",
       "      <th>3</th>\n",
       "      <td>MofmAMt7P8LIcF4+LLlcjyIhYUzmv13L/LRwYFxiGYE=</td>\n",
       "      <td>skehue/d/R59G71dXYpntDwdjRRPlweN3JE8g40TgZU=</td>\n",
       "      <td>1</td>\n",
       "      <td>458</td>\n",
       "      <td>莊心妍</td>\n",
       "      <td>鄭建浩</td>\n",
       "      <td>鄭建浩</td>\n",
       "      <td>我過的很好</td>\n",
       "      <td>莊心妍鄭建浩鄭建浩</td>\n",
       "    </tr>\n",
       "    <tr>\n",
       "      <th>4</th>\n",
       "      <td>U9Z+N+szYGJHTPMn/C0V7yIyIC24fDI0RDRWChXATkg=</td>\n",
       "      <td>skehue/d/R59G71dXYpntDwdjRRPlweN3JE8g40TgZU=</td>\n",
       "      <td>0</td>\n",
       "      <td>458</td>\n",
       "      <td>莊心妍</td>\n",
       "      <td>鄭建浩</td>\n",
       "      <td>鄭建浩</td>\n",
       "      <td>我過的很好</td>\n",
       "      <td>莊心妍鄭建浩鄭建浩</td>\n",
       "    </tr>\n",
       "  </tbody>\n",
       "</table>\n",
       "</div>"
      ],
      "text/plain": [
       "                                        user_id  \\\n",
       "0  FGtllVqz18RPiwJj/edr2gV78zirAiY/9SmYvia+kCg=   \n",
       "1  hZyOA+0yqClPLt6uIEndf8fG8szH/95eKMbaxLE5z30=   \n",
       "2  0LhkakIQDn36HZXI6ClQSO7W7jkpZAy+9MvYgPOZGrA=   \n",
       "3  MofmAMt7P8LIcF4+LLlcjyIhYUzmv13L/LRwYFxiGYE=   \n",
       "4  U9Z+N+szYGJHTPMn/C0V7yIyIC24fDI0RDRWChXATkg=   \n",
       "\n",
       "                                        song_id  target genre_ids artist_name  \\\n",
       "0  3Hg5kugV1S0wzEVLAEfqjIV5UHzb7bCrdBRQlGygLvU=       1      1259   desiigner   \n",
       "1  3Hg5kugV1S0wzEVLAEfqjIV5UHzb7bCrdBRQlGygLvU=       1      1259   desiigner   \n",
       "2  skehue/d/R59G71dXYpntDwdjRRPlweN3JE8g40TgZU=       1       458         莊心妍   \n",
       "3  skehue/d/R59G71dXYpntDwdjRRPlweN3JE8g40TgZU=       1       458         莊心妍   \n",
       "4  skehue/d/R59G71dXYpntDwdjRRPlweN3JE8g40TgZU=       0       458         莊心妍   \n",
       "\n",
       "                   composer lyricist song_name  \\\n",
       "0  sidney selby  adnan khan              Panda   \n",
       "1  sidney selby  adnan khan              Panda   \n",
       "2                       鄭建浩      鄭建浩     我過的很好   \n",
       "3                       鄭建浩      鄭建浩     我過的很好   \n",
       "4                       鄭建浩      鄭建浩     我過的很好   \n",
       "\n",
       "                        songs_details  \n",
       "0  desiignersidney selby  adnan khan   \n",
       "1  desiignersidney selby  adnan khan   \n",
       "2                           莊心妍鄭建浩鄭建浩  \n",
       "3                           莊心妍鄭建浩鄭建浩  \n",
       "4                           莊心妍鄭建浩鄭建浩  "
      ]
     },
     "execution_count": 40,
     "metadata": {},
     "output_type": "execute_result"
    }
   ],
   "source": [
    "temp_df = df.copy()\n",
    "temp_df.head()"
   ]
  },
  {
   "cell_type": "code",
   "execution_count": 41,
   "metadata": {},
   "outputs": [
    {
     "data": {
      "text/plain": [
       "889"
      ]
     },
     "execution_count": 41,
     "metadata": {},
     "output_type": "execute_result"
    }
   ],
   "source": [
    "temp_df.songs_details.duplicated().sum()"
   ]
  },
  {
   "cell_type": "code",
   "execution_count": 42,
   "metadata": {},
   "outputs": [
    {
     "data": {
      "text/plain": [
       "(1509, 9)"
      ]
     },
     "execution_count": 42,
     "metadata": {},
     "output_type": "execute_result"
    }
   ],
   "source": [
    "temp_df.shape"
   ]
  },
  {
   "cell_type": "code",
   "execution_count": 43,
   "metadata": {},
   "outputs": [
    {
     "data": {
      "text/plain": [
       "0"
      ]
     },
     "execution_count": 43,
     "metadata": {},
     "output_type": "execute_result"
    }
   ],
   "source": [
    "temp_df.duplicated().sum()"
   ]
  },
  {
   "cell_type": "markdown",
   "metadata": {},
   "source": [
    "# Using TFIDF for vectorization"
   ]
  },
  {
   "cell_type": "code",
   "execution_count": 51,
   "metadata": {},
   "outputs": [],
   "source": [
    "tfidf = TfidfVectorizer(analyzer='word', stop_words='english')\n",
    "tfidf_matrix = tfidf.fit_transform(temp_df['songs_details'])"
   ]
  },
  {
   "cell_type": "code",
   "execution_count": 52,
   "metadata": {},
   "outputs": [
    {
     "data": {
      "text/plain": [
       "<1509x1931 sparse matrix of type '<class 'numpy.float64'>'\n",
       "\twith 6876 stored elements in Compressed Sparse Row format>"
      ]
     },
     "execution_count": 52,
     "metadata": {},
     "output_type": "execute_result"
    }
   ],
   "source": [
    "tfidf_matrix"
   ]
  },
  {
   "cell_type": "code",
   "execution_count": 53,
   "metadata": {},
   "outputs": [
    {
     "data": {
      "text/plain": [
       "(1509, 8)"
      ]
     },
     "execution_count": 53,
     "metadata": {},
     "output_type": "execute_result"
    }
   ],
   "source": [
    "temp_df.shape"
   ]
  },
  {
   "cell_type": "code",
   "execution_count": 54,
   "metadata": {},
   "outputs": [],
   "source": [
    "temp_df.reset_index(drop=True, inplace=True)"
   ]
  },
  {
   "cell_type": "markdown",
   "metadata": {},
   "source": [
    "# Now for the Recommendation we will use cosine similarity"
   ]
  },
  {
   "cell_type": "code",
   "execution_count": 56,
   "metadata": {},
   "outputs": [],
   "source": [
    "cosine_similarity = cosine_similarity(tfidf_matrix)"
   ]
  },
  {
   "cell_type": "code",
   "execution_count": 57,
   "metadata": {},
   "outputs": [
    {
     "data": {
      "text/plain": [
       "array([[1., 1., 0., ..., 0., 0., 0.],\n",
       "       [1., 1., 0., ..., 0., 0., 0.],\n",
       "       [0., 0., 1., ..., 0., 0., 0.],\n",
       "       ...,\n",
       "       [0., 0., 0., ..., 1., 0., 0.],\n",
       "       [0., 0., 0., ..., 0., 1., 0.],\n",
       "       [0., 0., 0., ..., 0., 0., 1.]])"
      ]
     },
     "execution_count": 57,
     "metadata": {},
     "output_type": "execute_result"
    }
   ],
   "source": [
    "cosine_similarity"
   ]
  },
  {
   "cell_type": "markdown",
   "metadata": {},
   "source": [
    "# User based Recommendation "
   ]
  },
  {
   "cell_type": "code",
   "execution_count": 59,
   "metadata": {},
   "outputs": [],
   "source": [
    "def recommend_song(song):\n",
    "    song_index = temp_df[temp_df['song_name'] == song].index[0]\n",
    "    distances = cosine_similarity[song_index]\n",
    "    song_list = sorted(list(enumerate(distances)), reverse=True, key=lambda x:x[1])[1:10]\n",
    "    for i in song_list:\n",
    "        print(temp_df.iloc[i[0]].song_name)"
   ]
  },
  {
   "cell_type": "code",
   "execution_count": 60,
   "metadata": {},
   "outputs": [
    {
     "name": "stdout",
     "output_type": "stream",
     "text": [
      "太極拳Cypher (Tai Chi Fist Cypher)\n",
      "太極拳Cypher (Tai Chi Fist Cypher)\n",
      "布魯赫：第一號小提琴協奏曲/第二樂章：慢板 (Violin Concerto No. 1 in G Minor| Op. 26 - Adagio)\n",
      "靠近一點點\n",
      "靠近一點點\n",
      "靠近一點點\n",
      "靠近一點點\n",
      "mozart sonata in d major k448 (2 pianos) - 2nd movement mozart sonata in d major k448 (2 pianos) - 2nd movement\n",
      "We Don't Talk Any More\n"
     ]
    }
   ],
   "source": [
    "recommend_song('Fine Day')"
   ]
  }
 ],
 "metadata": {
  "colab": {
   "name": "Welcome To Colaboratory",
   "provenance": [],
   "toc_visible": true
  },
  "kernelspec": {
   "display_name": "Python 3 (ipykernel)",
   "language": "python",
   "name": "python3"
  },
  "language_info": {
   "codemirror_mode": {
    "name": "ipython",
    "version": 3
   },
   "file_extension": ".py",
   "mimetype": "text/x-python",
   "name": "python",
   "nbconvert_exporter": "python",
   "pygments_lexer": "ipython3",
   "version": "3.10.9"
  }
 },
 "nbformat": 4,
 "nbformat_minor": 1
}
